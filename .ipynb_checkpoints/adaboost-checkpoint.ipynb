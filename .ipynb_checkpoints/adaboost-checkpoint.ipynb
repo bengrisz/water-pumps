{
 "cells": [
  {
   "cell_type": "code",
   "execution_count": null,
   "metadata": {
    "collapsed": true
   },
   "outputs": [],
   "source": [
    "\n",
    "# ADABOOST\n",
    "\n",
    "\n",
    "import pandas as pd\n",
    "import numpy as np\n",
    "from patsy import dmatrix, dmatrices\n",
    "%pylab inline\n",
    "import warnings\n",
    "warnings.filterwarnings('ignore')\n",
    "import matplotlib.pyplot as plt\n",
    "\n",
    "\n",
    "\n",
    "\n",
    "\n",
    "# ------- PREPROCESSING --------\n",
    "pump_data = pd.read_csv('pump_training_data.csv')\n",
    "pump_data['yr_recorded'] = pump_data['date_recorded'].apply(lambda x: x.split('-')[0])\n",
    "test_data = pd.read_csv('pump_test_data.csv')\n",
    "test_data['yr_recorded'] = test_data['date_recorded'].apply(lambda x: x.split('-')[0])\n",
    "pump_status = pd.read_csv('pump_status_group.csv')\n",
    "\n",
    "\n",
    "pump_data['district_code'] = pump_data['district_code'].apply(str)\n",
    "test_data['district_code'] = test_data['district_code'].apply(str)\n",
    "\n",
    "\n",
    "pump_data.loc[:, 'yr_recorded'] = pump_data.loc[:, 'yr_recorded'].convert_objects(convert_numeric=True)\n",
    "pump_data['age'] = pump_data['yr_recorded'] - pump_data['construction_year']\n",
    "test_data.loc[:, 'yr_recorded'] = test_data.loc[:, 'yr_recorded'].convert_objects(convert_numeric=True)\n",
    "test_data['age'] = test_data['yr_recorded'] - test_data['construction_year']"
   ]
  }
 ],
 "metadata": {
  "kernelspec": {
   "display_name": "Python 2",
   "language": "python",
   "name": "python2"
  },
  "language_info": {
   "codemirror_mode": {
    "name": "ipython",
    "version": 2
   },
   "file_extension": ".py",
   "mimetype": "text/x-python",
   "name": "python",
   "nbconvert_exporter": "python",
   "pygments_lexer": "ipython2",
   "version": "2.7.10"
  }
 },
 "nbformat": 4,
 "nbformat_minor": 0
}
