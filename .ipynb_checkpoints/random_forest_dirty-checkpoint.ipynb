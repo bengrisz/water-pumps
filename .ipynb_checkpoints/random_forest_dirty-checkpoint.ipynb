{
 "cells": [
  {
   "cell_type": "code",
   "execution_count": 69,
   "metadata": {
    "collapsed": false
   },
   "outputs": [
    {
     "name": "stdout",
     "output_type": "stream",
     "text": [
      "Populating the interactive namespace from numpy and matplotlib\n"
     ]
    }
   ],
   "source": [
    "import pandas as pd\n",
    "import numpy as np\n",
    "from patsy import dmatrix, dmatrices\n",
    "%pylab inline\n",
    "import warnings\n",
    "warnings.filterwarnings('ignore')\n",
    "import matplotlib.pyplot as plt\n",
    "from sklearn.ensemble import RandomForestClassifier\n",
    "from sklearn.cross_validation import train_test_split\n",
    "\n",
    "# ------- PREPROCESSING --------\n",
    "pump_data = pd.read_csv('pump_training_data.csv')\n",
    "pump_data['yr_recorded'] = pump_data['date_recorded'].apply(lambda x: x.split('-')[0])\n",
    "test_data = pd.read_csv('pump_test_data.csv')\n",
    "test_data['yr_recorded'] = test_data['date_recorded'].apply(lambda x: x.split('-')[0])\n",
    "pump_status = pd.read_csv('pump_status_group.csv')\n",
    "\n",
    "\n",
    "pump_data['district_code'] = pump_data['district_code'].apply(str)\n",
    "test_data['district_code'] = test_data['district_code'].apply(str)\n",
    "\n",
    "\n",
    "pump_data.loc[:, 'yr_recorded'] = pump_data.loc[:, 'yr_recorded'].convert_objects(convert_numeric=True)\n",
    "pump_data['age'] = pump_data['yr_recorded'] - pump_data['construction_year']\n",
    "test_data.loc[:, 'yr_recorded'] = test_data.loc[:, 'yr_recorded'].convert_objects(convert_numeric=True)\n",
    "test_data['age'] = test_data['yr_recorded'] - test_data['construction_year']\n",
    "\n",
    "\n",
    "\n",
    "\n",
    "pumps = pd.merge(pump_data, pump_status, on='id')\n",
    "\n",
    "\n",
    "pumps = pumps.drop(['date_recorded', 'id', 'ward', 'scheme_name'], axis=1)\n",
    "\n",
    "test_data = test_data.drop(['date_recorded', 'id', 'ward', 'scheme_name'], axis=1)\n",
    "\n",
    "# BIN LONGITUDE, LATITUDE, AMOUT_TSH, GPS_HEIGHT\n",
    "\n",
    "\n"
   ]
  },
  {
   "cell_type": "code",
   "execution_count": 70,
   "metadata": {
    "collapsed": false
   },
   "outputs": [],
   "source": [
    "\n",
    "\n",
    "scrub_dict = {\"world_vision\": [\"world vision/ kkkt\", \"world vision\", \"world vision/adra\",\n",
    "                               \"world vision/rc church\", \"worldvision\", \"wvt\", \"vwc\", \"vwt\",\n",
    "                               \"vw\", \"wvc\", \"world division\", \"world vission\", \"world visiin\",\n",
    "                               \"word divisio\"],\n",
    "             \"wedeco\": [\"wdeco\", \"we\", \"wedeco/wessons\", \"wedeko\"],\n",
    "             \"water aid\": [\"water aid\", \"wateraid\", \"water hu\",\"water users group\",\n",
    "                           \"water user group\", \"water use group\", \"water solution\",\n",
    "                           \"wate aid\"],\n",
    "             \"ministry_water\": [\"ministry of watre\", \"ministry of water engineer\",\n",
    "                                \"ministryof water\"],\n",
    "             \"sema\": [\"sema\", \"water /sema\", \"water aid/sema\", \"water aid /sema\",\n",
    "                      \"water /sema\", \"sema\", \"sema co ltd\", \"sema consultant\",\n",
    "                      \"wate aid/sema\", \"sema s\", \"semaki\", \"semaki k\"],\n",
    "             \"wananchi\": [\"wanan\", \"wananchi\", \"wananchi technicians\"],\n",
    "             \"village\": [\"villagers\", \"villager\", \"villagerd\", \"villages\", \"villege council\",\n",
    "                         \"villi\", \"villigers\", \"village water committee\",\n",
    "                         \"village water commission\", \"village water attendant\",\n",
    "                         \"village technician\", \"village office\", \"village local contractor\",\n",
    "                         \"village govt\", \"village government\", \"village counil\",\n",
    "                         \"village council orpha\", \"village council .oda\", \"village council\",\n",
    "                         \"village community members\", \"village community\", \"village  council\",\n",
    "                         \"village\", \"villag\", \"villaers\", \"villa\", \"vill\"],\n",
    "             \"unicef\": [\"unicef\", \"unicrf\", \"unisef\", \"unice\", \"unice/ cspd\", \"unicef/ csp\",\n",
    "                        \"unicef/african muslim agency\",\"unicef/central\", \"unicef/cspd\",\n",
    "                        \"uniceg\", \"unicet\", \"unicrf\", \"uniseg\"],\n",
    "             \"twesa\": [\"twesa\", \"twe\", \"twesa /community\", \"twesa/ community\",\n",
    "                       \"twesa/community\", \"twess\", \"tuwasa\", \"twe\"],\n",
    "             \"tcrs\": [\"tcrs\", \"tcrs /care\", \"tcrs /dwe\", \"tcrs /government\", \"tcrs /twesa\",\n",
    "                      \"tcrs a\", \"tcrs kibondo\", \"tcrs twesa\", \"tcrs/care\", \"tcrs/dwe\",\n",
    "                      \"tcrs/tlc\", \"tcrs/twesa\", \"tcrs/village community\",\n",
    "                      \"tcrs /government\", \"tcrs kibondo\", \"tcrst\", \"tag\", \"tag church\",\n",
    "                      \"tag church ub\"],\n",
    "             \"tasaf\": [\"tasa\", \"tasaf\", \"tasaf 1\", \"tasaf and community\", \"tasaf and lga\",\n",
    "                       \"tasaf and mmem\", \"tasaf/\", \"tasaf/dmdd\", \"tasaf/tlc\",\n",
    "                       \"tasafcitizen and lga\", \"tasf\", \"tassaf\", \"tassaf /tcrs\",\n",
    "                       \"tassaf/ tcrs\", \"tassaf/tcrs\", \"government /tassaf\",\n",
    "                       \"government/tassaf\", \"tasad\", \"tasae\", \"tasaf ii\", \"tasafu\", \"tasef\",\n",
    "                       \"tassaf i\", \"tassaf ii\", \"tassaf/ danida\"],\n",
    "             \"government\": [\"centr\", \"cental government\", \"central government\", \"central govt\",\n",
    "                            \"tanzania goverment\", \"tanzania\", \"tanzanian government\", \"tanza\",\n",
    "                            \"tanz\", \"gove\", \"gover\", \"goverm\", \"govern\", \"governme\",\n",
    "                            \"governmen\", \"government\", \"government /community\",\n",
    "                            \"government /sda\", \"government /tcrs\", \"government /world vision\",\n",
    "                            \"government and community\", \"government of misri\",\n",
    "                            \"government/tcrs\", \"tanza\", \"plan tanzania\", \"tanzania\"],\n",
    "             \"shipo\": [\"ship\", \"shipo\", \"shipo constructors\"],\n",
    "             \"rwssp\": [\"rwsp\", \"rwssp\", \"rural\", \"rural drinking water supply\",\n",
    "                       \"rural drunkung water supply\", \"rural water supply\", \"national rural\",\n",
    "                       \"rwsso\", \"rwssp shinyanga\", \"rwssp/wsdp\", \"rwsssp\", \n",
    "                       \"rural water supply and sanita\", \"rural water supply and sanitat\"],\n",
    "             \"rwe\": [\"rwe\", \"rwe /community\", \"rwe community\",\"rwe/ community\",\n",
    "                     \"rwe/community\", \"rwe/dwe\", \"rwe/tcrs\", \"rwedwe\", \"rwet/wesa\",\n",
    "                     \"region water department\", \"regional water\",\n",
    "                     \"regional water engineer arusha\", \"regwa\", \"regwa company\",\n",
    "                     \"region group\", \"region water\"],\n",
    "             \"roman_catholic\": [\"roma\", \"r.c\", \"romam\", \"roman\", \"roman ca\", \"roman catholic\",\n",
    "                                \"roman catholic rulenge diocese\", \"roman cathoric -kilomeni\",\n",
    "                                \"roman cathoric -same\", \"roman cathoric same\", \"roman church\",\n",
    "                                \"rc\", \"rc .church\", \"rc c\", \"rc churc\", \"rc church\",\n",
    "                                \"rc church brother\", \"rc church/cefa\",\n",
    "                                \"rc church/central gover\", \"rc mi\", \"rc mis\", \"rc mission\",\n",
    "                                \"rc missionary\", \"rc msufi\", \"rc njoro\", \"rc/mission\",\n",
    "                                \"rcchurch/cefa\", \"cathoric\", \"romam catholic\",\n",
    "                                \"roman cathoric\", \"roman cathoric-same\",\n",
    "                                \"roman cathoric church\"],\n",
    "             \"private\": [\"priv\", \"priva\", \"privat\", \"private\", \"private company\",\n",
    "                         \"private individuals\", \"private institutions\", \"private owned\",\n",
    "                         \"private person\", \"private technician\", \"private co\",\n",
    "                         \"private individual\", \"private individul\"],\n",
    "             \"oxfarm\": [\"ox\", \"oxfam\", \"oxfarm\", \"oxfam gb\", \"oxfarm gb\"],\n",
    "             \"norad\": [\"no\", \"nora\", \"norad\"],\n",
    "             \"mwe\": [\"mwe\", \"mwe &\"],\n",
    "             \"muwsa\": [\"muwasa\", \"muwaza\", \"muwsa\", \"mtuwasa\", \"mutwasa and community\"],\n",
    "             \"missionary\": [\"missi\", \"missio\", \"mission\", \"missionaries\", \"missionary\",\n",
    "                           \"missi\", \"missio\", \"mission\", \"missionaries\", \"missionary\",\n",
    "                           \"church\", \"churc\",\"christian outrich\", \"christan outrich\"],\n",
    "             \"local\": [\"local\", \"local technician\", \"local local contract\", \"local fundi\",\n",
    "                       \"local l technician\", \"local te\", \"local technical\",\n",
    "                       \"local technical tec\", \"local technician\", \"local technitian\",\n",
    "                       \"locall technician\", \"localtechnician\"],\n",
    "             \"kuwait\": [\"kuwait\", \"kuwaiti\", \"kuweit\"],\n",
    "             \"kkkt\": [\"kkkt\", \"kkkt-dioces ya pare\", \"kkkt _ konde and dwe\", \"kkkt canal\",\n",
    "                      \"kkkt church\", \"kkkt dme\", \"kkkt katiti ju\", \"kkkt kilinga\",\n",
    "                      \"kkkt leguruki\", \"kkkt mareu\", \"kkkt ndrumangeni\", \"kkt\"],\n",
    "             \"kiliwater\": [\"kili water\", \"kiliwater\", \"kiliwater r\"],\n",
    "             \"jica\": [\"jica\", \"jicks\", \"jika\", \"jaica\", \"jaica co\"],\n",
    "             \"isf\": [\"is\", \"isf\", \"isf / tasaff\", \"isf and tacare\", \"isf/government\",\n",
    "                     \"isf/tacare\"],\n",
    "             \"idara\": [\"idara\", \"idara ya maji\"],\n",
    "             \"hesawa\": [\"hesaw\", \"hesawa\", \"hesawq\", \"hesaws\", \"hesawz\", \"hesewa\"],\n",
    "             \"fin_water\": [\"fw\", \"finwater\", \"finwate\", \"finw\", \"finn water\", \"fini water\",\n",
    "                           \"fin water\", \"fiwater\"],\n",
    "             \"dwe\": [\"consultant and dwe\", \"dw\", \"dw e\", \"dw#\", \"dw$\", \"dwe\", \"dwe & lwi\",\n",
    "                     \"dwe /tassaf\", \"dwe&\", \"dwe/\", \"dwe/anglican church\", \"dwe/tassaf\",\n",
    "                     \"dwe/ubalozi wa marekani\", \"dwe{\", \"dweb\", \"dwr\", \"dwe and veo\",\n",
    "                     \"dwe/norad\", \"dwe/rudep\", \"dwe/ubalozi wa marekani\", \"water aid/dwe\"],\n",
    "             \"district council\": [\"district council\", \"district counci\", \"district  council\",\n",
    "                                  \"distri\"],\n",
    "             \"water_dept\": [\"district water department\", \"district water depar\",\n",
    "                            \"water department\", \"water authority\", \"water board\",\n",
    "                            \"water boards\", \"rural water department\"],\n",
    "             \"dh\": [\"dh\", \"dhv\"],\n",
    "             \"danida\": [\"danida\", \"daniad\", \"danda\", \"danid\", \"danida co\", \"danids\", \"dannida\",\n",
    "                        \"denish\", \"da\"],\n",
    "             \"community\": [\"commu\", \"communit\", \"community\"],\n",
    "             \"consultant_ces\": [\"ces\", \"consultant\", \"consultant engineer\",\n",
    "                                \"consulting engineer\", \"consuting engineer\", \"cons\"],\n",
    "             \"adra\": [\"adra\", \"adra /community\", \"adra /government\", \"adra/ community\",\n",
    "                      \"adra/community\", \"adra/government\", \"0\"],\n",
    "             \"acra\": [\"accra\", \"acra\"],\n",
    "             \"plan_international\": [\"plan int\", \"plan\", \"plan internatio\",\n",
    "                                    \"plan international\"],\n",
    "             \"netherlands\": [\"nerthlands\", \"nethalan\", \"nethe\", \"netherla\", \"netherland\"],\n",
    "             \"cefa\": [\"cefa\", \"cefa-njombe\", \"cefa/rcchurch\"],\n",
    "             \"concern\": [\"conce\", \"concern\", \"concern /govern\", \"concern world wide\",\n",
    "                         \"concern/governm\", \"co\", \"cocen\", \"cocern\"],\n",
    "             \"ces\": [\"ces(gmbh)\", \"ces (gmbh)\"],\n",
    "             \"germany\": [\"germany\", \"germany cristians\", \"germany misionary\",\n",
    "                         \"germany missionary\", \"germany republi\"],\n",
    "             \"unknown\": [\"\", \" \", \"-\", \"not known\", \"unknown installer\", \"other\"]}\n",
    "\n",
    "# for x in [pumps, test_data]:\n",
    "#     mask = x['installer'] in name_list\n",
    "\n",
    "\n",
    "for key1, value1 in scrub_dict.iteritems():\n",
    "    for key2, value2 in scrub_dict.iteritems():\n",
    "        if key1!=key2:\n",
    "            output = [val for val in value1 if val in value2]\n",
    "            if len(output) > 0:\n",
    "                print 'match in', key1+',', key2\n",
    "                print output\n",
    "                print"
   ]
  },
  {
   "cell_type": "code",
   "execution_count": null,
   "metadata": {
    "collapsed": false
   },
   "outputs": [],
   "source": []
  },
  {
   "cell_type": "code",
   "execution_count": 71,
   "metadata": {
    "collapsed": false
   },
   "outputs": [
    {
     "name": "stdout",
     "output_type": "stream",
     "text": [
      "(14850, 38)\n",
      "(59400, 39)\n"
     ]
    }
   ],
   "source": [
    "print test_data.shape\n",
    "print pumps.shape"
   ]
  },
  {
   "cell_type": "code",
   "execution_count": null,
   "metadata": {
    "collapsed": true
   },
   "outputs": [],
   "source": [
    "# pumps.loc[pumps['permit'].isnull(), 'permit'] = 'Unknown'\n",
    "# pumps.loc[pumps['public_meeting'].isnull(), 'public_meeting'] = 'Unknown'\n",
    "# pumps.loc[pumps['scheme_management'].isnull(), 'scheme_management'] = 'Other'\n",
    "# test_data.loc[test_data['permit'].isnull(), 'permit'] = 'Unknown'\n",
    "# test_data.loc[test_data['public_meeting'].isnull(), 'public_meeting'] = 'Unknown'\n",
    "# test_data.loc[test_data['scheme_management'].isnull(), 'scheme_management'] = 'Other'\n",
    "\n",
    "\n",
    "\n",
    "\n",
    "\n"
   ]
  },
  {
   "cell_type": "code",
   "execution_count": null,
   "metadata": {
    "collapsed": false
   },
   "outputs": [],
   "source": [
    "def pre_process(df):\n",
    "    for col in df.columns.values:\n",
    "        if type(df.loc[0, col])==type(''):\n",
    "            df.loc[df[col].isnull(), col] = 'unknown'\n",
    "            df[col] = df[col].str.lower()\n",
    "            for key, str_list in scrub_dict.iteritems():\n",
    "                for val in str_list:\n",
    "                    mask = (df[col]==val)\n",
    "                    df.loc[mask, col] = key\n",
    "            # remove any categories not appearing at least 100 times\n",
    "            for z in df[col].unique():\n",
    "                if len(df[df[col]==z]) < 10:\n",
    "                    df.loc[df[col]==z, col] = 'unknown'\n",
    "        else:\n",
    "            df.loc[df[col].isnull(), col] = 0\n",
    "    return df\n",
    "\n",
    "            \n",
    "            \n",
    "pumps = pre_process(pumps)\n",
    "test_data = pre_process(test_data)\n",
    "\n",
    "print pumps.isnull().sum().sum()\n",
    "print test_data.isnull().sum().sum()"
   ]
  },
  {
   "cell_type": "code",
   "execution_count": null,
   "metadata": {
    "collapsed": true
   },
   "outputs": [],
   "source": [
    "\n",
    "\n",
    "# if len(whatever.unique()) > 200? ...\n",
    "    # then convert all not in top 200 to 'unknown'\n"
   ]
  },
  {
   "cell_type": "code",
   "execution_count": null,
   "metadata": {
    "collapsed": false
   },
   "outputs": [],
   "source": [
    "for z in pumps['payment_type'].unique():\n",
    "    where_z = pumps[pumps['payment_type']==z]\n",
    "    print z, len(pumps[pumps['payment_type']==z])"
   ]
  },
  {
   "cell_type": "code",
   "execution_count": null,
   "metadata": {
    "collapsed": true
   },
   "outputs": [],
   "source": []
  },
  {
   "cell_type": "code",
   "execution_count": null,
   "metadata": {
    "collapsed": false
   },
   "outputs": [],
   "source": [
    "formula = 'status_group ~ ' + ' + '.join(['Q(\"'+x+'\")' for x in pumps.columns.values[:-1]])\n",
    "formula"
   ]
  },
  {
   "cell_type": "code",
   "execution_count": null,
   "metadata": {
    "collapsed": false
   },
   "outputs": [],
   "source": [
    "Y, X = dmatrices(formula, pumps, return_type='dataframe')\n",
    "X.shape"
   ]
  },
  {
   "cell_type": "code",
   "execution_count": null,
   "metadata": {
    "collapsed": false
   },
   "outputs": [],
   "source": [
    "test_formula = ' + '.join(['Q(\"'+x+'\")' for x in test_data.columns.values[:-1]])\n",
    "actual_test = dmatrix(test_formula, test_data, return_type='dataframe')\n",
    "actual_test.shape"
   ]
  },
  {
   "cell_type": "code",
   "execution_count": null,
   "metadata": {
    "collapsed": false
   },
   "outputs": [],
   "source": [
    "# remove columns from train and test that are not found in the other\n",
    "x_not_actual = []\n",
    "actual_not_x = []\n",
    "\n",
    "for i in actual_test.columns.values:\n",
    "    if i not in X.columns.values:\n",
    "        actual_not_x.append(i)\n",
    "\n",
    "for i in X.columns.values:\n",
    "    if i not in actual_test.columns.values:\n",
    "        x_not_actual.append(i)\n",
    "\n",
    "X = X.drop(x_not_actual, axis=1)\n",
    "actual_test = actual_test.drop(actual_not_x, axis=1)\n",
    "\n",
    "print X.shape\n",
    "print actual_test.shape"
   ]
  },
  {
   "cell_type": "code",
   "execution_count": null,
   "metadata": {
    "collapsed": false
   },
   "outputs": [],
   "source": [
    "from sklearn import metrics\n",
    "X_train, X_test, y_train, y_test = train_test_split(X, Y, test_size=0.3, random_state=1)\n",
    "\n",
    "model_rf = RandomForestClassifier(n_estimators=50, random_state=78, n_jobs=-1)\n",
    "model_rf.fit(X_train, y_train)\n",
    "\n",
    "prediction = model_rf.predict(X_test)\n",
    "accuracy = metrics.accuracy_score(y_test, prediction)\n",
    "accuracy"
   ]
  },
  {
   "cell_type": "code",
   "execution_count": null,
   "metadata": {
    "collapsed": false
   },
   "outputs": [],
   "source": [
    "rf_pred = pd.DataFrame(prediction, columns=['functional', 'needs_repair', 'non_functional'])\n",
    "y_true = pd.DataFrame(y_test, columns=['functional', 'needs_repair', 'non_functional'])\n",
    "\n",
    "#pd.crosstab(rf_pred.index, y_true.columns, row_names=rf_pred.columns.values)\n",
    "# pumps.groupby(['functional'])\n",
    "y_true['status_group'] = 'functional'\n",
    "y_true.loc[y_true['needs_repair']==1, 'status_group'] = 'needs_repair'\n",
    "y_true.loc[y_true['non_functional']==1, 'status_group'] = 'non_functional'\n",
    "\n",
    "\n",
    "rf_pred['status_group'] = 'functional'\n",
    "rf_pred.loc[rf_pred['needs_repair']==1, 'status_group'] = 'needs_repair'\n",
    "rf_pred.loc[rf_pred['non_functional']==1, 'status_group'] = 'non_functional'\n",
    "\n",
    "rf_pred['true_status'] = y_true['status_group']\n",
    "\n",
    "\n",
    "xtab = pd.crosstab(rf_pred['true_status'], rf_pred['status_group'], margins=True)\n",
    "xtab"
   ]
  },
  {
   "cell_type": "code",
   "execution_count": null,
   "metadata": {
    "collapsed": true
   },
   "outputs": [],
   "source": []
  },
  {
   "cell_type": "code",
   "execution_count": null,
   "metadata": {
    "collapsed": true
   },
   "outputs": [],
   "source": [
    "def convert_pred_to_df(np_array):\n",
    "    pred_df = pd.DataFrame(pd.read_csv('pump_test_data.csv')['id'])\n",
    "    pred_df['status_group'] = 'none'\n",
    "    for i, ans in enumerate(np_array):\n",
    "        if ans[0]==1:\n",
    "            pred_df.loc[i, 'status_group'] = 'functional'\n",
    "        elif ans[1]==1:\n",
    "            pred_df.loc[i, 'status_group'] = 'functional needs repair'\n",
    "        else:\n",
    "            pred_df.loc[i, 'status_group'] = 'non functional'\n",
    "    return pred_df"
   ]
  },
  {
   "cell_type": "code",
   "execution_count": null,
   "metadata": {
    "collapsed": false
   },
   "outputs": [],
   "source": [
    "model_rf_test = RandomForestClassifier(n_estimators=50, random_state=78, n_jobs=-1)\n",
    "model_rf_test.fit(X, Y)\n",
    "\n",
    "actual_pred = model_rf_test.predict(actual_test)\n",
    "submission = convert_pred_to_df(actual_pred)\n",
    "\n",
    "submission.to_csv('submission_unclean.csv', index=False)"
   ]
  },
  {
   "cell_type": "code",
   "execution_count": null,
   "metadata": {
    "collapsed": false
   },
   "outputs": [],
   "source": [
    "submission[:20]"
   ]
  },
  {
   "cell_type": "code",
   "execution_count": null,
   "metadata": {
    "collapsed": false
   },
   "outputs": [],
   "source": [
    "submission.loc[submission['status_group']=='none', :]"
   ]
  },
  {
   "cell_type": "code",
   "execution_count": null,
   "metadata": {
    "collapsed": false
   },
   "outputs": [],
   "source": [
    "submission.shape"
   ]
  },
  {
   "cell_type": "code",
   "execution_count": null,
   "metadata": {
    "collapsed": true
   },
   "outputs": [],
   "source": []
  },
  {
   "cell_type": "code",
   "execution_count": null,
   "metadata": {
    "collapsed": false
   },
   "outputs": [],
   "source": [
    "X[:20]"
   ]
  },
  {
   "cell_type": "code",
   "execution_count": null,
   "metadata": {
    "collapsed": false
   },
   "outputs": [],
   "source": [
    "print X['Q(\"gps_height\")'].max()\n",
    "print X['Q(\"gps_height\")'].min()\n",
    "print X['Q(\"longitude\")'].max()\n",
    "print X['Q(\"longitude\")'].min()\n",
    "print X['Q(\"latitude\")'].max()\n",
    "print X['Q(\"latitude\")'].min()\n",
    "print X['Q(\"amount_tsh\")'].max()\n",
    "print X['Q(\"amount_tsh\")'].min()"
   ]
  },
  {
   "cell_type": "code",
   "execution_count": null,
   "metadata": {
    "collapsed": true
   },
   "outputs": [],
   "source": []
  }
 ],
 "metadata": {
  "kernelspec": {
   "display_name": "Python 2",
   "language": "python",
   "name": "python2"
  },
  "language_info": {
   "codemirror_mode": {
    "name": "ipython",
    "version": 2
   },
   "file_extension": ".py",
   "mimetype": "text/x-python",
   "name": "python",
   "nbconvert_exporter": "python",
   "pygments_lexer": "ipython2",
   "version": "2.7.10"
  }
 },
 "nbformat": 4,
 "nbformat_minor": 0
}
