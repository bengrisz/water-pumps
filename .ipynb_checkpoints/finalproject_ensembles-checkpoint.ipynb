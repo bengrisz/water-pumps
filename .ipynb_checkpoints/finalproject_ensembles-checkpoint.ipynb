{
 "cells": [
  {
   "cell_type": "code",
   "execution_count": 178,
   "metadata": {
    "collapsed": false
   },
   "outputs": [
    {
     "name": "stdout",
     "output_type": "stream",
     "text": [
      "Populating the interactive namespace from numpy and matplotlib\n"
     ]
    }
   ],
   "source": [
    "import pandas as pd\n",
    "import numpy as np\n",
    "from patsy import dmatrix, dmatrices\n",
    "%pylab inline\n",
    "import warnings\n",
    "warnings.filterwarnings('ignore')\n",
    "\n",
    "pump_data = pd.read_csv('pump_training_data.csv')\n",
    "pump_data['yr_recorded'] = pump_data['date_recorded'].apply(lambda x: x.split('-')[0])\n",
    "test_data = pd.read_csv('pump_test_data.csv')\n",
    "test_data['yr_recorded'] = test_data['date_recorded'].apply(lambda x: x.split('-')[0])\n",
    "pump_status = pd.read_csv('pump_status_group.csv')\n",
    "\n",
    "\n",
    "# district_dummies = pd.get_dummies(pump_data['district_code'], prefix='district_')\n",
    "# pump_data = pd.concat([pump_data.drop('district_code', axis=1).T, district_dummies.T]).T\n",
    "pump_data['district_code'] = pump_data['district_code'].apply(str)\n",
    "test_data['district_code'] = test_data['district_code'].apply(str)\n",
    "\n",
    "pump_data.loc[:, 'yr_recorded'] = pump_data.loc[:, 'yr_recorded'].convert_objects(convert_numeric=True)\n",
    "pump_data['age'] = pump_data['yr_recorded'] - pump_data['construction_year']\n",
    "test_data.loc[:, 'yr_recorded'] = test_data.loc[:, 'yr_recorded'].convert_objects(convert_numeric=True)\n",
    "test_data['age'] = test_data['yr_recorded'] - test_data['construction_year']\n",
    "\n",
    "pumps_train_clean = pd.read_csv('training_clean_dan.csv')\n",
    "test_clean = pd.read_csv('test_clean_dan.csv')\n",
    "test_clean['id'] = test_data['id']\n",
    "\n",
    "pumps = pd.merge(pump_data, pump_status, on='id')\n",
    "\n",
    "# no ward\n",
    "pumps = pumps.drop(['date_recorded', 'quantity_group','wpt_name', 'subvillage', 'region_code', 'management_group',\n",
    "                   'id', 'extraction_type_group', 'extraction_type_class', 'num_private', 'source_type', 'ward',\n",
    "                   'quality_group', 'waterpoint_type_group', 'recorded_by', 'payment_type', 'scheme_name',\n",
    "                   'yr_recorded', 'longitude', 'latitude', 'gps_height', 'population', 'construction_year'], axis=1)\n",
    "\n",
    "test_data = test_data.drop(['date_recorded', 'quantity_group','wpt_name', 'subvillage', 'region_code', 'management_group',\n",
    "                   'id', 'extraction_type_group', 'extraction_type_class', 'num_private', 'source_type', 'ward',\n",
    "                   'quality_group', 'waterpoint_type_group', 'recorded_by', 'payment_type', 'scheme_name',\n",
    "                   'yr_recorded', 'longitude', 'latitude', 'gps_height', 'population', 'construction_year'], axis=1)\n",
    "\n",
    "\n",
    "# don't use latitude or longitude\n",
    "# pumps = pumps.drop(['date_recorded', 'quantity_group','wpt_name', 'subvillage', 'region_code', 'management_group',\n",
    "#                    'id', 'extraction_type_group', 'extraction_type_class', 'num_private', 'source_type', 'ward',\n",
    "#                    'quality_group', 'waterpoint_type_group', 'recorded_by', 'payment_type', 'scheme_name',\n",
    "#                    'latitude', 'longitude', 'yr_recorded], axis=1)\n",
    "\n",
    "\n",
    "# Dan's list of dropped features\n",
    "# \"id\", \"subvillage\",\"region_code\", \"village\", \"lga\", \"extraction_type_group\", \"extraction_type_class\",\n",
    "# \"water_quality\", \"quality_group\", \"source\", \"source_class\", \"waterpoint_type_group\", \"recorded_by\",\n",
    "# \"scheme_management\", \"scheme_name\" , \"public_meeting\", \"num_private\", \"amount_tsh\", \"dist_code\",\n",
    "# \"gps_height\", \"wpt_name\", \"ward\", \"management_group\", \"payment_type\", \"quantity_group\n",
    "\n",
    "# replace funder & installer with clean\n",
    "pumps['funder'] = pumps_train_clean['funder']\n",
    "pumps['installer'] = pumps_train_clean['installer']\n",
    "test_data['funder'] = test_clean['funder']\n",
    "test_data['installer'] = test_clean['installer']\n",
    "\n",
    "# fill missing values\n",
    "pumps.loc[pumps['permit'].isnull(), 'permit'] = 'Unknown'\n",
    "pumps.loc[pumps['public_meeting'].isnull(), 'public_meeting'] = 'Unknown'\n",
    "pumps.loc[pumps['scheme_management'].isnull(), 'scheme_management'] = 'Other'\n",
    "test_data.loc[test_data['permit'].isnull(), 'permit'] = 'Unknown'\n",
    "test_data.loc[test_data['public_meeting'].isnull(), 'public_meeting'] = 'Unknown'\n",
    "test_data.loc[test_data['scheme_management'].isnull(), 'scheme_management'] = 'Other'"
   ]
  },
  {
   "cell_type": "code",
   "execution_count": 179,
   "metadata": {
    "collapsed": false
   },
   "outputs": [
    {
     "data": {
      "text/plain": [
       "'status_group ~ Q(\"amount_tsh\") + Q(\"funder\") + Q(\"installer\") + Q(\"basin\") + Q(\"region\") + Q(\"district_code\") + Q(\"lga\") + Q(\"public_meeting\") + Q(\"scheme_management\") + Q(\"permit\") + Q(\"extraction_type\") + Q(\"management\") + Q(\"payment\") + Q(\"water_quality\") + Q(\"quantity\") + Q(\"source\") + Q(\"source_class\") + Q(\"waterpoint_type\") + Q(\"age\")'"
      ]
     },
     "execution_count": 179,
     "metadata": {},
     "output_type": "execute_result"
    }
   ],
   "source": [
    "formula = 'status_group ~ ' + ' + '.join(['Q(\"'+x+'\")' for x in pumps.columns.values[:-1]])\n",
    "formula"
   ]
  },
  {
   "cell_type": "code",
   "execution_count": 180,
   "metadata": {
    "collapsed": false
   },
   "outputs": [
    {
     "data": {
      "text/plain": [
       "(59400, 311)"
      ]
     },
     "execution_count": 180,
     "metadata": {},
     "output_type": "execute_result"
    }
   ],
   "source": [
    "Y, X = dmatrices(formula, pumps, return_type='dataframe')\n",
    "X.shape"
   ]
  },
  {
   "cell_type": "code",
   "execution_count": 181,
   "metadata": {
    "collapsed": false
   },
   "outputs": [
    {
     "data": {
      "text/plain": [
       "(14850, 308)"
      ]
     },
     "execution_count": 181,
     "metadata": {},
     "output_type": "execute_result"
    }
   ],
   "source": [
    "test_formula = ' + '.join(['Q(\"'+x+'\")' for x in test_data.columns.values[:-1]])\n",
    "actual_test = dmatrix(test_formula, test_data, return_type='dataframe')\n",
    "actual_test.shape"
   ]
  },
  {
   "cell_type": "code",
   "execution_count": 182,
   "metadata": {
    "collapsed": false
   },
   "outputs": [
    {
     "name": "stdout",
     "output_type": "stream",
     "text": [
      "(59400, 305)\n",
      "(14850, 305)\n"
     ]
    }
   ],
   "source": [
    "# remove columns from train and test that are not found in the other\n",
    "x_not_actual = []\n",
    "actual_not_x = []\n",
    "\n",
    "for i in actual_test.columns.values:\n",
    "    if i not in X.columns.values:\n",
    "        actual_not_x.append(i)\n",
    "\n",
    "for i in X.columns.values:\n",
    "    if i not in actual_test.columns.values:\n",
    "        x_not_actual.append(i)\n",
    "\n",
    "X = X.drop(x_not_actual, axis=1)\n",
    "actual_test = actual_test.drop(actual_not_x, axis=1)\n",
    "\n",
    "print X.shape\n",
    "print actual_test.shape"
   ]
  },
  {
   "cell_type": "code",
   "execution_count": 183,
   "metadata": {
    "collapsed": false
   },
   "outputs": [
    {
     "data": {
      "text/plain": [
       "0.76475869809203145"
      ]
     },
     "execution_count": 183,
     "metadata": {},
     "output_type": "execute_result"
    }
   ],
   "source": [
    "from sklearn.cross_validation import train_test_split\n",
    "from sklearn.ensemble import RandomForestClassifier, BaggingClassifier, GradientBoostingClassifier\n",
    "from sklearn import metrics, tree\n",
    "\n",
    "X_train, X_test, y_train, y_test = train_test_split(X, Y, test_size=0.3, random_state=1)\n",
    "\n",
    "model_rf = RandomForestClassifier(n_estimators=50, random_state=1)\n",
    "model_rf.fit(X_train, y_train)\n",
    "\n",
    "prediction = model_rf.predict(X_test)\n",
    "accuracy = metrics.accuracy_score(y_test, prediction)\n",
    "accuracy"
   ]
  },
  {
   "cell_type": "code",
   "execution_count": 184,
   "metadata": {
    "collapsed": false
   },
   "outputs": [
    {
     "data": {
      "text/html": [
       "<div>\n",
       "<table border=\"1\" class=\"dataframe\">\n",
       "  <thead>\n",
       "    <tr style=\"text-align: right;\">\n",
       "      <th>status_group</th>\n",
       "      <th>functional</th>\n",
       "      <th>needs_repair</th>\n",
       "      <th>non_functional</th>\n",
       "      <th>All</th>\n",
       "    </tr>\n",
       "    <tr>\n",
       "      <th>true_status</th>\n",
       "      <th></th>\n",
       "      <th></th>\n",
       "      <th></th>\n",
       "      <th></th>\n",
       "    </tr>\n",
       "  </thead>\n",
       "  <tbody>\n",
       "    <tr>\n",
       "      <th>functional</th>\n",
       "      <td>8675</td>\n",
       "      <td>171</td>\n",
       "      <td>845</td>\n",
       "      <td>9691</td>\n",
       "    </tr>\n",
       "    <tr>\n",
       "      <th>needs_repair</th>\n",
       "      <td>757</td>\n",
       "      <td>326</td>\n",
       "      <td>187</td>\n",
       "      <td>1270</td>\n",
       "    </tr>\n",
       "    <tr>\n",
       "      <th>non_functional</th>\n",
       "      <td>1780</td>\n",
       "      <td>75</td>\n",
       "      <td>5004</td>\n",
       "      <td>6859</td>\n",
       "    </tr>\n",
       "    <tr>\n",
       "      <th>All</th>\n",
       "      <td>11212</td>\n",
       "      <td>572</td>\n",
       "      <td>6036</td>\n",
       "      <td>17820</td>\n",
       "    </tr>\n",
       "  </tbody>\n",
       "</table>\n",
       "</div>"
      ],
      "text/plain": [
       "status_group    functional  needs_repair  non_functional    All\n",
       "true_status                                                    \n",
       "functional            8675           171             845   9691\n",
       "needs_repair           757           326             187   1270\n",
       "non_functional        1780            75            5004   6859\n",
       "All                  11212           572            6036  17820"
      ]
     },
     "execution_count": 184,
     "metadata": {},
     "output_type": "execute_result"
    }
   ],
   "source": [
    "rf_pred = pd.DataFrame(prediction, columns=['functional', 'needs_repair', 'non_functional'])\n",
    "y_true = pd.DataFrame(y_test, columns=['functional', 'needs_repair', 'non_functional'])\n",
    "\n",
    "#pd.crosstab(rf_pred.index, y_true.columns, row_names=rf_pred.columns.values)\n",
    "# pumps.groupby(['functional'])\n",
    "y_true['status_group'] = 'functional'\n",
    "y_true.loc[y_true['needs_repair']==1, 'status_group'] = 'needs_repair'\n",
    "y_true.loc[y_true['non_functional']==1, 'status_group'] = 'non_functional'\n",
    "\n",
    "\n",
    "rf_pred['status_group'] = 'functional'\n",
    "rf_pred.loc[rf_pred['needs_repair']==1, 'status_group'] = 'needs_repair'\n",
    "rf_pred.loc[rf_pred['non_functional']==1, 'status_group'] = 'non_functional'\n",
    "\n",
    "rf_pred['true_status'] = y_true['status_group']\n",
    "\n",
    "\n",
    "xtab = pd.crosstab(rf_pred['true_status'], rf_pred['status_group'], margins=True)\n",
    "xtab"
   ]
  },
  {
   "cell_type": "code",
   "execution_count": 185,
   "metadata": {
    "collapsed": false
   },
   "outputs": [
    {
     "data": {
      "text/plain": [
       "array(['Intercept'], dtype=object)"
      ]
     },
     "execution_count": 185,
     "metadata": {},
     "output_type": "execute_result"
    }
   ],
   "source": [
    "feat_imp = pd.DataFrame(model_rf.feature_importances_, index=X.columns).sort(0, ascending=False)\n",
    "no_importance = feat_imp[feat_imp[0]==0].index.values\n",
    "no_importance"
   ]
  },
  {
   "cell_type": "code",
   "execution_count": 186,
   "metadata": {
    "collapsed": false
   },
   "outputs": [
    {
     "data": {
      "text/html": [
       "<div>\n",
       "<table border=\"1\" class=\"dataframe\">\n",
       "  <thead>\n",
       "    <tr style=\"text-align: right;\">\n",
       "      <th></th>\n",
       "      <th>0</th>\n",
       "    </tr>\n",
       "  </thead>\n",
       "  <tbody>\n",
       "    <tr>\n",
       "      <th>Q(\"quantity\")[T.enough]</th>\n",
       "      <td>0.066501</td>\n",
       "    </tr>\n",
       "    <tr>\n",
       "      <th>Q(\"amount_tsh\")</th>\n",
       "      <td>0.050848</td>\n",
       "    </tr>\n",
       "    <tr>\n",
       "      <th>Q(\"waterpoint_type\")[T.other]</th>\n",
       "      <td>0.044582</td>\n",
       "    </tr>\n",
       "    <tr>\n",
       "      <th>Q(\"quantity\")[T.insufficient]</th>\n",
       "      <td>0.037885</td>\n",
       "    </tr>\n",
       "    <tr>\n",
       "      <th>Q(\"extraction_type\")[T.other]</th>\n",
       "      <td>0.029368</td>\n",
       "    </tr>\n",
       "    <tr>\n",
       "      <th>Q(\"quantity\")[T.seasonal]</th>\n",
       "      <td>0.019396</td>\n",
       "    </tr>\n",
       "    <tr>\n",
       "      <th>Q(\"funder\")[T.other]</th>\n",
       "      <td>0.017135</td>\n",
       "    </tr>\n",
       "    <tr>\n",
       "      <th>Q(\"waterpoint_type\")[T.communal standpipe]</th>\n",
       "      <td>0.016970</td>\n",
       "    </tr>\n",
       "    <tr>\n",
       "      <th>Q(\"permit\")[T.True]</th>\n",
       "      <td>0.015681</td>\n",
       "    </tr>\n",
       "    <tr>\n",
       "      <th>Q(\"public_meeting\")[T.True]</th>\n",
       "      <td>0.014563</td>\n",
       "    </tr>\n",
       "  </tbody>\n",
       "</table>\n",
       "</div>"
      ],
      "text/plain": [
       "                                                   0\n",
       "Q(\"quantity\")[T.enough]                     0.066501\n",
       "Q(\"amount_tsh\")                             0.050848\n",
       "Q(\"waterpoint_type\")[T.other]               0.044582\n",
       "Q(\"quantity\")[T.insufficient]               0.037885\n",
       "Q(\"extraction_type\")[T.other]               0.029368\n",
       "Q(\"quantity\")[T.seasonal]                   0.019396\n",
       "Q(\"funder\")[T.other]                        0.017135\n",
       "Q(\"waterpoint_type\")[T.communal standpipe]  0.016970\n",
       "Q(\"permit\")[T.True]                         0.015681\n",
       "Q(\"public_meeting\")[T.True]                 0.014563"
      ]
     },
     "execution_count": 186,
     "metadata": {},
     "output_type": "execute_result"
    }
   ],
   "source": [
    "feat_imp[:10]"
   ]
  },
  {
   "cell_type": "code",
   "execution_count": 187,
   "metadata": {
    "collapsed": false
   },
   "outputs": [
    {
     "data": {
      "text/plain": [
       "array(['Intercept'], dtype=object)"
      ]
     },
     "execution_count": 187,
     "metadata": {},
     "output_type": "execute_result"
    }
   ],
   "source": [
    "feat_imp = pd.DataFrame(model_rf.feature_importances_, index=X.columns).sort(0, ascending=False)\n",
    "no_importance = feat_imp[feat_imp[0]==0].index.values\n",
    "no_importance"
   ]
  },
  {
   "cell_type": "code",
   "execution_count": 188,
   "metadata": {
    "collapsed": false
   },
   "outputs": [
    {
     "data": {
      "text/html": [
       "<div>\n",
       "<table border=\"1\" class=\"dataframe\">\n",
       "  <thead>\n",
       "    <tr style=\"text-align: right;\">\n",
       "      <th></th>\n",
       "      <th>Test Accuracy</th>\n",
       "      <th>Training Accuracy</th>\n",
       "    </tr>\n",
       "  </thead>\n",
       "  <tbody>\n",
       "    <tr>\n",
       "      <th>50_trees_75_feat_3000_leaf</th>\n",
       "      <td>0.773401</td>\n",
       "      <td>0.847138</td>\n",
       "    </tr>\n",
       "    <tr>\n",
       "      <th>50_trees_75_feat_7000_leaf</th>\n",
       "      <td>0.771324</td>\n",
       "      <td>0.866114</td>\n",
       "    </tr>\n",
       "    <tr>\n",
       "      <th>50_trees_75_feat_1000_leaf</th>\n",
       "      <td>0.765376</td>\n",
       "      <td>0.798653</td>\n",
       "    </tr>\n",
       "    <tr>\n",
       "      <th>50_trees_75_feat_500_leaf</th>\n",
       "      <td>0.756510</td>\n",
       "      <td>0.775998</td>\n",
       "    </tr>\n",
       "  </tbody>\n",
       "</table>\n",
       "</div>"
      ],
      "text/plain": [
       "                            Test Accuracy  Training Accuracy\n",
       "50_trees_75_feat_3000_leaf       0.773401           0.847138\n",
       "50_trees_75_feat_7000_leaf       0.771324           0.866114\n",
       "50_trees_75_feat_1000_leaf       0.765376           0.798653\n",
       "50_trees_75_feat_500_leaf        0.756510           0.775998"
      ]
     },
     "execution_count": 188,
     "metadata": {},
     "output_type": "execute_result"
    }
   ],
   "source": [
    "num_est = [50]\n",
    "num_leaves = [500, 1000, 3000, 7000]\n",
    "num_features = [75]\n",
    "# still need to play with n_estimators\n",
    "\n",
    "model_list = []\n",
    "for i in num_est:\n",
    "    for j in num_features:\n",
    "        for k in num_leaves:\n",
    "            # generate model to test\n",
    "            model_tuple = (str(i)+'_trees_'+str(j)+'_feat_'+str(k)+'_leaf'\n",
    "                           , RandomForestClassifier(n_estimators = i,\n",
    "                                                    random_state = 58,\n",
    "                                                    max_features = j,\n",
    "                                                    max_leaf_nodes = k,\n",
    "                                                    n_jobs=-1))\n",
    "            # add to list\n",
    "            model_list.append(model_tuple)\n",
    "\n",
    "accuracy_train = {}\n",
    "accuracy_test = {}\n",
    "for (name, model) in model_list:\n",
    "    model.fit(X_train, y_train)\n",
    "    prediction_train = model.predict(X_train)\n",
    "    accuracy_train[name] = metrics.accuracy_score(y_train, prediction_train)\n",
    "    prediction_test = model.predict(X_test)\n",
    "    accuracy_test[name] = metrics.accuracy_score(y_test, prediction_test)\n",
    "    \n",
    "df = pd.DataFrame({'Training Accuracy':accuracy_train, 'Test Accuracy':accuracy_test})\n",
    "df.sort('Test Accuracy', ascending=False)\n",
    "    \n"
   ]
  },
  {
   "cell_type": "code",
   "execution_count": 189,
   "metadata": {
    "collapsed": false
   },
   "outputs": [],
   "source": [
    "def convert_pred_to_df(np_array):\n",
    "    pred_df = pd.DataFrame(test_clean['id'])\n",
    "    pred_df['status_group'] = 'none'\n",
    "    for i, ans in enumerate(np_array):\n",
    "        if ans[0]==1:\n",
    "            pred_df.loc[i, 'status_group'] = 'functional'\n",
    "        elif ans[1]==1:\n",
    "            pred_df.loc[i, 'status_group'] = 'functional needs repair'\n",
    "        else:\n",
    "            pred_df.loc[i, 'status_group'] = 'non functional'\n",
    "    return pred_df"
   ]
  },
  {
   "cell_type": "code",
   "execution_count": 190,
   "metadata": {
    "collapsed": false
   },
   "outputs": [],
   "source": [
    "model_rf_test = RandomForestClassifier(n_estimators=90, \n",
    "                                       random_state=18, \n",
    "                                       max_features=75,\n",
    "                                       max_leaf_nodes=6000)\n",
    "model_rf_test.fit(X, Y)\n",
    "\n",
    "actual_pred = model_rf.predict(actual_test)\n",
    "submission = convert_pred_to_df(actual_pred)\n"
   ]
  },
  {
   "cell_type": "code",
   "execution_count": 191,
   "metadata": {
    "collapsed": true
   },
   "outputs": [],
   "source": [
    "submission.to_csv('submission1.csv', index=False)"
   ]
  },
  {
   "cell_type": "code",
   "execution_count": 192,
   "metadata": {
    "collapsed": false
   },
   "outputs": [
    {
     "data": {
      "text/html": [
       "<div>\n",
       "<table border=\"1\" class=\"dataframe\">\n",
       "  <thead>\n",
       "    <tr style=\"text-align: right;\">\n",
       "      <th></th>\n",
       "      <th>Test Accuracy</th>\n",
       "      <th>Training Accuracy</th>\n",
       "    </tr>\n",
       "  </thead>\n",
       "  <tbody>\n",
       "    <tr>\n",
       "      <th>50_trees_75_feat_7000_leaf</th>\n",
       "      <td>0.771324</td>\n",
       "      <td>0.866114</td>\n",
       "    </tr>\n",
       "    <tr>\n",
       "      <th>50_trees_75_feat_3000_leaf</th>\n",
       "      <td>0.773401</td>\n",
       "      <td>0.847138</td>\n",
       "    </tr>\n",
       "    <tr>\n",
       "      <th>50_trees_75_feat_1000_leaf</th>\n",
       "      <td>0.765376</td>\n",
       "      <td>0.798653</td>\n",
       "    </tr>\n",
       "    <tr>\n",
       "      <th>50_trees_75_feat_500_leaf</th>\n",
       "      <td>0.756510</td>\n",
       "      <td>0.775998</td>\n",
       "    </tr>\n",
       "  </tbody>\n",
       "</table>\n",
       "</div>"
      ],
      "text/plain": [
       "                            Test Accuracy  Training Accuracy\n",
       "50_trees_75_feat_7000_leaf       0.771324           0.866114\n",
       "50_trees_75_feat_3000_leaf       0.773401           0.847138\n",
       "50_trees_75_feat_1000_leaf       0.765376           0.798653\n",
       "50_trees_75_feat_500_leaf        0.756510           0.775998"
      ]
     },
     "execution_count": 192,
     "metadata": {},
     "output_type": "execute_result"
    }
   ],
   "source": [
    "df.sort('Training Accuracy', ascending=False)"
   ]
  },
  {
   "cell_type": "code",
   "execution_count": null,
   "metadata": {
    "collapsed": true
   },
   "outputs": [],
   "source": []
  }
 ],
 "metadata": {
  "kernelspec": {
   "display_name": "Python 2",
   "language": "python",
   "name": "python2"
  },
  "language_info": {
   "codemirror_mode": {
    "name": "ipython",
    "version": 2
   },
   "file_extension": ".py",
   "mimetype": "text/x-python",
   "name": "python",
   "nbconvert_exporter": "python",
   "pygments_lexer": "ipython2",
   "version": "2.7.10"
  }
 },
 "nbformat": 4,
 "nbformat_minor": 0
}
